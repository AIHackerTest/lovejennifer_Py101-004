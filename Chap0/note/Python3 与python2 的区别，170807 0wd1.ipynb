{
 "cells": [
  {
   "cell_type": "markdown",
   "metadata": {},
   "source": [
    "## 170807 0wd1\n",
    "\n",
    "## Python3 与python2 的区别\n",
    "\n",
    "### 结合Learn python the hard way的练习，所选7个\n",
    "\n",
    "1. ex3, python3 的变化为\n",
    "   - 算术运算默认是浮点数，变为整数需要`int()`，但是`int()`只会省去小数位，保留整数位，所以如果要四舍五入，就需要`round()`或`int(round())`。\n",
    "\n",
    "2. ex5, python3 的变化为\n",
    "   - `print`改为`print ()`\n",
    "   - 格式化字符串的赋值方式和变量名的连接符书写方式不变。\n",
    "\n",
    "3. ex11, python3 的变化为 \n",
    "   - `input()`代替`raw_input()`\n",
    "   - 如果想实现`print`后的输入不换行，python2是在`print \"xxx\",`，python3则是`print (\"xxx\", end = \"\")`\n",
    "   - 根据`print`原型，`print(*objects, sep=' ', end='\\n', file=sys.stdout, flush=False)`\n",
    "\n",
    "4. ex17, python3 的变化为 \n",
    "   - `input`在python3中作为关键词，无法再充当变量名，所以需要替换。\n",
    "   - 如果依然使用`input`做变量名，则会出现`'_io.TextIOWrapper' object is not callable`错误，即把input给覆盖成本地变量，无法实现`input`的原本功能。\n",
    "   - 当然完全可以改写为`indata = open (from_file).read()`，避免上述问题。\n",
    "   \n",
    "5. ex19, python3 \n",
    "   - 函数的`def`定义，函数的参数，冒号以及函数的调用均不变。\n",
    "\n",
    "6. ex30, python3 \n",
    "   - 条件语句格式不变，\n",
    "   ```\n",
    "   if xxx:\n",
    "       xx\n",
    "   elif xxx:\n",
    "       xx\n",
    "   else:\n",
    "       xx\n",
    "   ```\n",
    "\n",
    "7. ex32, python3 \n",
    "   - `for x in` ...循环就是把每个元素代入变量`x`，然后执行缩进块的语句。\n"
   ]
  }
 ],
 "metadata": {
  "kernelspec": {
   "display_name": "Python 3",
   "language": "python",
   "name": "python3"
  },
  "language_info": {
   "codemirror_mode": {
    "name": "ipython",
    "version": 3
   },
   "file_extension": ".py",
   "mimetype": "text/x-python",
   "name": "python",
   "nbconvert_exporter": "python",
   "pygments_lexer": "ipython3",
   "version": "3.6.1"
  }
 },
 "nbformat": 4,
 "nbformat_minor": 2
}
