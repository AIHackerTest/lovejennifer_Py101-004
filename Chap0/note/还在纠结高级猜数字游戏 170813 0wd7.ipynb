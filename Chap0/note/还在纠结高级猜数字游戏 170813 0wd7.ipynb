{
 "cells": [
  {
   "cell_type": "markdown",
   "metadata": {},
   "source": [
    "## 170813 0wd7\n",
    "\n",
    "## 还在纠结高级猜数字游戏\n",
    "\n",
    "- 在set中，没有重复的key, 这个很受启发。\n",
    "- 之前纠结过，上一个函数的局部变量怎么在下一个函数中使用。答案是return出来。\n",
    "- 循环套条件语句，条件中若表示继续循环，可以用continue。单独条件语句表示继续循环，可以用递归。\n",
    "- 让电脑自己去大量运行，去循环，寻找正确答案。\n",
    "- `array.count(x)` 返回数字0在数组中出现的次数\n",
    "- `array.zip(arr1,arr2)` 把两个数列中的每一项对应放在一起，形成多个元组，最终返回多个元组形成的数列。\n",
    "- `&` 交集， `|` 并集\n",
    "- 学会看报错的信息，提示你line30报错，就要看看line29——line31行的内容，不要只看line30行。上下文会引起很多问题。"
   ]
  },
  {
   "cell_type": "code",
   "execution_count": 2,
   "metadata": {},
   "outputs": [
    {
     "name": "stdout",
     "output_type": "stream",
     "text": [
      "第1次猜测，还有9次机会\n",
      "Please type in a 4 digit number: 1234\n",
      "0A3B\n",
      "第2次猜测，还有8次机会\n",
      "Please type in a 4 digit number: 2341\n",
      "1A2B\n",
      "第3次猜测，还有7次机会\n",
      "Please type in a 4 digit number: 2436\n",
      "1A1B\n",
      "第4次猜测，还有6次机会\n",
      "Please type in a 4 digit number: 2631\n",
      "1A2B\n",
      "第5次猜测，还有5次机会\n",
      "Please type in a 4 digit number: 2713\n",
      "2A2B\n",
      "第6次猜测，还有4次机会\n",
      "Please type in a 4 digit number: 2819\n",
      "1A1B\n",
      "第7次猜测，还有3次机会\n",
      "Please type in a 4 digit number: 2893\n",
      "2A0B\n",
      "第8次猜测，还有2次机会\n",
      "Please type in a 4 digit number: 2173\n",
      "Bravo! You win.\n"
     ]
    }
   ],
   "source": [
    "# coding=utf-8\n",
    "\n",
    "from random import randint\n",
    "from random import sample\n",
    "\n",
    "def rand_num():\n",
    "\tm = [str(i) for i in range(10)]\n",
    "\tfirst_num = m.pop(randint(1, 9))\n",
    "\tstr_other_num = \"\".join(map(str, sample(m, 3)))\n",
    "\tstr_other_num = \"\".join(str(x) for x in sample(m, 3))\n",
    "\tnumber = first_num + str_other_num\n",
    "\treturn number\n",
    "\n",
    "def get_num():\n",
    "\tinput_num = input(\"Please type in a 4 digit number: \")\n",
    "\tif input_num.isdigit() and len(input_num) == 4:\n",
    "\t\treturn input_num\n",
    "\telse:\n",
    "\t\tprint (\"Only 4 digit numbers.\")\n",
    "\t\treturn get_num()\n",
    "\n",
    "def guess(wanted_num, input_num):\n",
    "\n",
    "    count_of_a = 0\n",
    "    count_of_b = 0\n",
    "    \n",
    "    for i, num in enumerate(wanted_num):\n",
    "\n",
    "        if num == input_num[i]:\n",
    "            count_of_a += 1\n",
    "        elif num in input_num:\n",
    "            count_of_b += 1\n",
    "        else:\n",
    "            continue\n",
    "\n",
    "    result_bool = False\n",
    "    result_str = '%dA%dB' % (count_of_a, count_of_b)\n",
    "\n",
    "    if count_of_a == 4:\n",
    "    \tprint (\"Bravo! You win.\")\n",
    "    \tresult_bool = True\n",
    "    else:\n",
    "    \tprint (result_str)\n",
    "\n",
    "    return (result_bool,result_str)\n",
    "\n",
    "def play(allowable_count):\n",
    "\n",
    "\twanted_number = rand_num()\n",
    "\tcount = 1\n",
    "\n",
    "\twhile True:\n",
    "\n",
    "\t\tif count > allowable_count:\n",
    "\t\t\tprint('您没有机会猜测，游戏结束! %s' % wanted_number)\n",
    "\t\t\tbreak\n",
    "\n",
    "\t\tprint('第%d次猜测，还有%d次机会' % (count, 10-count))\n",
    "\t\tinput_number = get_num()\n",
    "\n",
    "\t\tif guess(wanted_number, input_number)[0] is True:\n",
    "\t\t\tbreak\n",
    "\n",
    "\t\tcount += 1\n",
    "\n",
    "play(10)\n"
   ]
  },
  {
   "cell_type": "code",
   "execution_count": null,
   "metadata": {
    "collapsed": true
   },
   "outputs": [],
   "source": []
  }
 ],
 "metadata": {
  "kernelspec": {
   "display_name": "Python 3",
   "language": "python",
   "name": "python3"
  },
  "language_info": {
   "codemirror_mode": {
    "name": "ipython",
    "version": 3
   },
   "file_extension": ".py",
   "mimetype": "text/x-python",
   "name": "python",
   "nbconvert_exporter": "python",
   "pygments_lexer": "ipython3",
   "version": "3.6.1"
  }
 },
 "nbformat": 4,
 "nbformat_minor": 2
}
