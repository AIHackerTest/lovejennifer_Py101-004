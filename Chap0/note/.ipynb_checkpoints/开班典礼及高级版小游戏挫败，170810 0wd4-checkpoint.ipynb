{
 "cells": [
  {
   "cell_type": "markdown",
   "metadata": {},
   "source": [
    "## 170810 0wd4\n",
    "\n",
    "## 开班典礼，学到的大妈语录\n",
    "\n",
    "- 学编程要熟能生巧。不会手忙脚乱，平常心，不担心。办法总比困难多。\n",
    "- 见多识广才懂得改进，要多看多模仿。\n",
    "- 注重效率，不注重数量。\n",
    "- 等待问题被自动解决是我们常有的经验，等待大事化小，小事化了。但是在编程世界里没有自动解决的事情，只能靠自己去真正解决。\n",
    "\n",
    "## 高级版猜数字小游戏的挫败\n",
    "\n",
    "- 高级版猜数字小游戏遇到了很多困难，目前还未解决。\n",
    "- 例如：依然采取randint来取随机数，想通过条件语句和不等式来使数字的4个数位各不相同，且首位不为0\n",
    "- “各不相同”这4个字，以及“inquality”, “unequal”等英文词也在google里搜了很久，依然没有结果。\n",
    "- 看了看其他学友的作业，才想到官方文档里有专门的函数`sample()`来解决这个问题。最开始根本想不到用list，set等，是自己对知识不熟悉导致。\n",
    "- 后面我就有些看不懂题目了，加之天色已晚，今天心里焦虑时间太久，准备暂时放弃，明天再继续攻克它。\n",
    "\n"
   ]
  }
 ],
 "metadata": {
  "kernelspec": {
   "display_name": "Python 3",
   "language": "python",
   "name": "python3"
  },
  "language_info": {
   "codemirror_mode": {
    "name": "ipython",
    "version": 3
   },
   "file_extension": ".py",
   "mimetype": "text/x-python",
   "name": "python",
   "nbconvert_exporter": "python",
   "pygments_lexer": "ipython3",
   "version": "3.6.1"
  }
 },
 "nbformat": 4,
 "nbformat_minor": 2
}
