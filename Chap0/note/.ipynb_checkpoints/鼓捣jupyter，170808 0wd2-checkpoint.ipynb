{
 "cells": [
  {
   "cell_type": "markdown",
   "metadata": {},
   "source": [
    "## 170808 0wd2\n",
    "\n",
    "- 今天一共花了 2 小时学习编程，主要练习python3：\n",
    "\n",
    "- 教材：Learn Python the Hard Way\n",
    "\n",
    "- 复盘：\n",
    "  - 初步掌握python3中的变量，函数，条件语句和循环，和python2几乎没有差异。\n",
    "\n",
    "- 改进计划：\n",
    "  - 练习的过程中，还同时看廖雪峰的python3教程，一心二用了，要专注，做完一件事再做另一件。\n",
    "  - 明天练习猜数字小游戏，然后优化升级小游戏，再回头熟练jupyter。\n",
    "\n",
    "- 下载jupyter\n",
    "  - brew install 找不到jupyter和Anaconda，所以直接下载了Anaconda包，然后用控制台pip3下载了jupyter。\n",
    "\n",
    "- 看文档\n",
    "  - 安装Anaconda后第一步就是看官方文档，学会Launch程序\n",
    "  - 找到jupyter，然后继续看文档，学会点击new，新建一个notebook\n",
    "  "
   ]
  }
 ],
 "metadata": {
  "kernelspec": {
   "display_name": "Python 3",
   "language": "python",
   "name": "python3"
  },
  "language_info": {
   "codemirror_mode": {
    "name": "ipython",
    "version": 3
   },
   "file_extension": ".py",
   "mimetype": "text/x-python",
   "name": "python",
   "nbconvert_exporter": "python",
   "pygments_lexer": "ipython3",
   "version": "3.6.1"
  }
 },
 "nbformat": 4,
 "nbformat_minor": 2
}
